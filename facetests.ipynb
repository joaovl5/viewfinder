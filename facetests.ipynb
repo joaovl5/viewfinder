{
 "cells": [
  {
   "cell_type": "code",
   "execution_count": 1,
   "metadata": {},
   "outputs": [
    {
     "name": "stderr",
     "output_type": "stream",
     "text": [
      "2024-06-10 13:03:25.971270: I external/local_tsl/tsl/cuda/cudart_stub.cc:32] Could not find cuda drivers on your machine, GPU will not be used.\n",
      "2024-06-10 13:03:25.974540: I external/local_tsl/tsl/cuda/cudart_stub.cc:32] Could not find cuda drivers on your machine, GPU will not be used.\n",
      "2024-06-10 13:03:26.019998: I tensorflow/core/platform/cpu_feature_guard.cc:210] This TensorFlow binary is optimized to use available CPU instructions in performance-critical operations.\n",
      "To enable the following instructions: AVX2 FMA, in other operations, rebuild TensorFlow with the appropriate compiler flags.\n",
      "2024-06-10 13:03:27.186745: W tensorflow/compiler/tf2tensorrt/utils/py_utils.cc:38] TF-TRT Warning: Could not find TensorRT\n"
     ]
    }
   ],
   "source": [
    "from deepface import DeepFace"
   ]
  },
  {
   "cell_type": "code",
   "execution_count": 20,
   "metadata": {},
   "outputs": [
    {
     "name": "stdout",
     "output_type": "stream",
     "text": [
      "24-06-10 13:11:34 - ⚠️ You passed 1st image as pre-calculated embeddings.Please ensure that embeddings have been calculated for the Facenet model.\n",
      "24-06-10 13:11:34 - ⚠️ You passed 2nd image as pre-calculated embeddings.Please ensure that embeddings have been calculated for the Facenet model.\n"
     ]
    },
    {
     "data": {
      "text/plain": [
       "{'verified': False,\n",
       " 'distance': 0.9210302064202373,\n",
       " 'threshold': 0.4,\n",
       " 'model': 'Facenet',\n",
       " 'detector_backend': 'yolov8',\n",
       " 'similarity_metric': 'cosine',\n",
       " 'facial_areas': {'img1': {'x': None,\n",
       "   'y': None,\n",
       "   'w': None,\n",
       "   'h': None,\n",
       "   'left_eye': None,\n",
       "   'right_eye': None},\n",
       "  'img2': {'x': None,\n",
       "   'y': None,\n",
       "   'w': None,\n",
       "   'h': None,\n",
       "   'left_eye': None,\n",
       "   'right_eye': None}},\n",
       " 'time': 0.0}"
      ]
     },
     "execution_count": 20,
     "metadata": {},
     "output_type": "execute_result"
    }
   ],
   "source": [
    "backend = \"yolov8\"\n",
    "model = \"Facenet\"\n",
    "metric = \"cosine\"\n",
    "\n",
    "embbeding = DeepFace.represent(img_path=\"/home/lav/Pictures/fotos/eu.jpg\", model_name=model, detector_backend=backend )\n",
    "embbeding2 = DeepFace.represent(img_path=\"/home/lav/Pictures/fotos/fallen.jpg\", model_name=model, detector_backend=backend)\n",
    "DeepFace.verify(img1_path=embbeding[0][\"embedding\"], img2_path=embbeding2[0][\"embedding\"], model_name=model, detector_backend=backend, distance_metric=metric)"
   ]
  }
 ],
 "metadata": {
  "kernelspec": {
   "display_name": ".venv",
   "language": "python",
   "name": "python3"
  },
  "language_info": {
   "codemirror_mode": {
    "name": "ipython",
    "version": 3
   },
   "file_extension": ".py",
   "mimetype": "text/x-python",
   "name": "python",
   "nbconvert_exporter": "python",
   "pygments_lexer": "ipython3",
   "version": "3.10.14"
  }
 },
 "nbformat": 4,
 "nbformat_minor": 2
}
